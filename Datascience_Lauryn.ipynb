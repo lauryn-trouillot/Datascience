{
 "cells": [
  {
   "cell_type": "markdown",
   "metadata": {},
   "source": [
    "Master 2 Bioinformatique \n",
    "Auteure : Lauryn Trouillot\n",
    "Année : 2024 - 2025\n",
    "\n",
    "# Projet Data science for bioinformatics "
   ]
  },
  {
   "cell_type": "code",
   "execution_count": 178,
   "metadata": {},
   "outputs": [],
   "source": [
    "# Impprtation des librairies\n",
    "import math\n",
    "import Activite_prep_1 as ap \n",
    "import numpy as np "
   ]
  },
  {
   "cell_type": "markdown",
   "metadata": {},
   "source": [
    "## Partie 1 – Prendre en main d’un jeu de données, nettoyage et curation\n",
    "\n",
    "1. Importer votre jeu de données dans votre projet python."
   ]
  },
  {
   "cell_type": "code",
   "execution_count": 179,
   "metadata": {},
   "outputs": [],
   "source": [
    "# Importation du jeu de données \n",
    "water_df = ap.csv_to_dict(\"/home/lauryn/Datascience/6_water/water/data.csv\", \",\")"
   ]
  },
  {
   "cell_type": "markdown",
   "metadata": {},
   "source": [
    "### 1.1 Identification des problèmes éventuels et vérification des types"
   ]
  },
  {
   "cell_type": "markdown",
   "metadata": {},
   "source": [
    "Le jeu de donnée est composé de 2785 observations, voici les différentes variables observées : \n",
    "\n",
    "- **pH**: The pH level of the water.\n",
    "- **Hardness**: Water hardness, a measure of mineral content.\n",
    "- **Solids**: Total dissolved solids in the water.\n",
    "- **Chloramines**: Chloramines concentration in the water.\n",
    "- **Sulfate**: Sulfate concentration in the water.\n",
    "- **Conductivity**: Electrical conductivity of the water.\n",
    "- **Organic_carbon**: Organic carbon content in the water.\n",
    "- **Trihalomethanes**: Trihalomethanes concentration in the water.\n",
    "- **Turbidity**: Turbidity level, a measure of water clarity.\n",
    "- **Potability**: Target variable; indicates water potability with values 1 (potable) and 0 (not potable).\n",
    "\n",
    "The variable to predict is : **Potability**"
   ]
  },
  {
   "cell_type": "code",
   "execution_count": 180,
   "metadata": {},
   "outputs": [
    {
     "name": "stdout",
     "output_type": "stream",
     "text": [
      "ph | Hardness | Solids | Chloramines | Sulfate | Conductivity | Organic_carbon | Trihalomethanes | Turbidity | Potability | \n",
      "\n",
      "NA | 204.8904554713363 | 20791.318980747026 | 7.300211873184757 | 368.51644134980336 | 564.3086541722439 | 10.3797830780847 | 86.9909704615088 | 2.9631353806316407 | 0 | \n",
      "\n",
      "3.71608007538699 | 129.42292051494425 | 18630.057857970347 | 6.635245883862 | NA | 592.8853591348523 | 15.180013116357259 | 56.32907628451764 | 4.500656274942408 | 0 | \n",
      "\n",
      "8.099124189298397 | 224.23625939355776 | 19909.541732292393 | 9.275883602694089 | NA | 418.6062130644815 | 16.868636929550973 | 66.42009251176368 | 3.0559337496641685 | 0 | \n",
      "\n",
      "8.316765884214679 | 214.37339408562252 | 22018.417440775294 | 8.05933237743854 | 356.88613564305666 | 363.2665161642437 | 18.436524495493302 | 100.34167436508008 | 4.628770536837084 | 0 | \n",
      "\n",
      "9.092223456290965 | 181.10150923612525 | 17978.98633892625 | 6.546599974207941 | 310.13573752420444 | 398.41081338184466 | 11.558279443446395 | 31.997992727424737 | 4.075075425430034 | 0 | \n",
      "\n",
      "5.584086638456089 | 188.3133237696164 | 28748.68773904612 | 7.54486878877965 | 326.6783629116736 | 280.4679159334877 | 8.399734640152758 | 54.917861841994466 | 2.5597082275565217 | 0 | \n",
      "\n",
      "10.223862164528773 | 248.07173527013992 | 28749.716543528233 | 7.5134084658313025 | 393.66339551509645 | 283.6516335078445 | 13.789695317519886 | 84.60355617402357 | 2.672988736934779 | 0 | \n",
      "\n",
      "8.635848718500734 | 203.36152258457054 | 13672.091763901635 | 4.563008685599703 | 303.3097711592812 | 474.60764494244853 | 12.36381669870525 | 62.798308962925155 | 4.401424715445482 | 0 | \n",
      "\n",
      "NA | 118.98857909025189 | 14285.583854224515 | 7.804173553073094 | 268.646940746221 | 389.3755658712614 | 12.70604896865791 | 53.928845767512236 | 3.5950171809576155 | 0 | \n",
      "\n",
      "11.180284470721592 | 227.23146923797458 | 25484.50849098786 | 9.077200016914393 | 404.04163468408996 | 563.8854814810949 | 17.92780641128502 | 71.97660103221915 | 4.370561936655497 | 0 | \n",
      "\n"
     ]
    }
   ],
   "source": [
    "##  Affichage de quelques lignes \n",
    "# Le nombre de ligne a afficher \n",
    "nb_ligne = 10\n",
    "\n",
    "# Noms des colonnes \n",
    "for col in water_df.keys() :  \n",
    "    print(col, end=' | ')\n",
    "print(\"\\n\")\n",
    "\n",
    "# Affichage des valeurs \n",
    "for i in range(nb_ligne) :\n",
    "    for col in water_df.keys() : \n",
    "        valeur = water_df[col][i]\n",
    "        if valeur == '' :\n",
    "            print(\"NA\", end= \" | \")\n",
    "        else : \n",
    "            print (valeur, end= \" | \" )\n",
    "    print(\"\\n\")\n"
   ]
  },
  {
   "cell_type": "markdown",
   "metadata": {},
   "source": [
    "**Stratégie de nettoyage**\n",
    "Je vais regarder le nombre de valeur manquante si le nombre est faible je pourrais supprimer les observation, sinon je vais regarder la moyenne, la médiane, l'écart-type, la valeur minimale et maximale de chacune des variables : \n",
    "- A partir de la moyenne, la médiane et l'écart type je vais pouvoir decider du traitement des valeurs manquantes \n",
    "- Les valeurs minimales et maximales vont me permettre d'identifier de potentielle valeur aberrante meme si un représentation graphique serait mieux. "
   ]
  },
  {
   "cell_type": "code",
   "execution_count": 181,
   "metadata": {},
   "outputs": [
    {
     "name": "stdout",
     "output_type": "stream",
     "text": [
      "Nombre d'observation total : 3276\n",
      "Le nombre d'observation incomplète : 1265\n"
     ]
    }
   ],
   "source": [
    "nb_observation = len(water_df[\"Hardness\"])\n",
    "print(\"Nombre d'observation total : \" + str(nb_observation))\n",
    "na = False\n",
    "nb_na = 0\n",
    "for i in range(nb_observation) :\n",
    "    for col in water_df.keys() : \n",
    "        valeur = water_df[col][i]\n",
    "        if valeur == '' :\n",
    "            na = True\n",
    "    if na : \n",
    "        nb_na += 1 \n",
    "    na = False\n",
    "\n",
    "print (\"Le nombre d'observation incomplète : \" + str(nb_na))"
   ]
  },
  {
   "cell_type": "markdown",
   "metadata": {},
   "source": [
    "Plus d'un tier des données ont des observations manquantes "
   ]
  },
  {
   "cell_type": "code",
   "execution_count": 182,
   "metadata": {},
   "outputs": [
    {
     "data": {
      "text/plain": [
       "(3276, 10)"
      ]
     },
     "execution_count": 182,
     "metadata": {},
     "output_type": "execute_result"
    }
   ],
   "source": [
    "# Importation du jeu de données \n",
    "water_df = np.array(list(water_df.values()))\n",
    "water_df = np.where(water_df == '', None, water_df)\n",
    "water_df = water_df.astype(object)\n",
    "water_df = np.where(water_df == None, np.nan, water_df)\n",
    "water_df = water_df.astype(float).transpose()\n",
    "\n",
    "colnames = [\"ph\" , \"Hardness\" , \"Solids\", \"Chloramines\" , \"Sulfate\" , \"Conductivity\" , \"Organic_carbon\" , \"Trihalomethanes\" , \"Turbidity\" , \"Potability\"]\n",
    "water_df.shape"
   ]
  },
  {
   "cell_type": "code",
   "execution_count": 183,
   "metadata": {},
   "outputs": [
    {
     "data": {
      "text/plain": [
       "array([[           nan, 2.04890455e+02, 2.07913190e+04, ...,\n",
       "        8.69909705e+01, 2.96313538e+00, 0.00000000e+00],\n",
       "       [3.71608008e+00, 1.29422921e+02, 1.86300579e+04, ...,\n",
       "        5.63290763e+01, 4.50065627e+00, 0.00000000e+00],\n",
       "       [8.09912419e+00, 2.24236259e+02, 1.99095417e+04, ...,\n",
       "        6.64200925e+01, 3.05593375e+00, 0.00000000e+00],\n",
       "       ...,\n",
       "       [9.41951032e+00, 1.75762646e+02, 3.31555782e+04, ...,\n",
       "        6.98454003e+01, 3.29887550e+00, 1.00000000e+00],\n",
       "       [5.12676292e+00, 2.30603758e+02, 1.19838694e+04, ...,\n",
       "        7.74882131e+01, 4.70865847e+00, 1.00000000e+00],\n",
       "       [7.87467136e+00, 1.95102299e+02, 1.74041771e+04, ...,\n",
       "        7.86984463e+01, 2.30914906e+00, 1.00000000e+00]], shape=(3276, 10))"
      ]
     },
     "execution_count": 183,
     "metadata": {},
     "output_type": "execute_result"
    }
   ],
   "source": [
    "water_df"
   ]
  },
  {
   "cell_type": "code",
   "execution_count": 184,
   "metadata": {},
   "outputs": [
    {
     "data": {
      "text/plain": [
       "1434"
      ]
     },
     "execution_count": 184,
     "metadata": {},
     "output_type": "execute_result"
    }
   ],
   "source": [
    "np.count_nonzero(np.isnan(water_df))"
   ]
  },
  {
   "cell_type": "code",
   "execution_count": 185,
   "metadata": {},
   "outputs": [
    {
     "name": "stdout",
     "output_type": "stream",
     "text": [
      "Colonne ph: Moyenne = 7.080794504276835, Médiane = 7.036752103833548, Écart-type = 1.5940332597032338, Valeur minimum = 0.0, Valeur maximal = 13.999999999999998\n",
      "Colonne Hardness: Moyenne = 196.36949601730154, Médiane = 196.96762686363073, Écart-type = 32.87474281466433, Valeur minimum = 47.432, Valeur maximal = 323.124\n",
      "Colonne Solids: Moyenne = 22014.092526077104, Médiane = 20927.833606520187, Écart-type = 8767.23242117998, Valeur minimum = 320.942611274359, Valeur maximal = 61227.19600771213\n",
      "Colonne Chloramines: Moyenne = 7.122276793425786, Médiane = 7.130298973883081, Écart-type = 1.5828432520255509, Valeur minimum = 0.3520000000000003, Valeur maximal = 13.127000000000002\n",
      "Colonne Sulfate: Moyenne = 333.77577661081347, Médiane = 333.073545745888, Écart-type = 41.408539661817485, Valeur minimum = 129.00000000000003, Valeur maximal = 481.03064230599716\n",
      "Colonne Conductivity: Moyenne = 426.20511068255325, Médiane = 421.88496828005435, Écart-type = 80.81172732448097, Valeur minimum = 181.483753985146, Valeur maximal = 753.3426195583046\n",
      "Colonne Organic_carbon: Moyenne = 14.284970247677318, Médiane = 14.218337937208588, Écart-type = 3.3076570518600805, Valeur minimum = 2.1999999999999886, Valeur maximal = 28.30000000000001\n",
      "Colonne Trihalomethanes: Moyenne = 66.39629294676803, Médiane = 66.62248509808484, Écart-type = 16.172411070387827, Valeur minimum = 0.7379999999999995, Valeur maximal = 124.0\n",
      "Colonne Turbidity: Moyenne = 3.966786169791058, Médiane = 3.9550275629930396, Écart-type = 0.7802632934105392, Valeur minimum = 1.45, Valeur maximal = 6.739\n",
      "Colonne Potability: Moyenne = 0.3901098901098901, Médiane = 0.0, Écart-type = 0.4877747059333229, Valeur minimum = 0.0, Valeur maximal = 1.0\n"
     ]
    }
   ],
   "source": [
    "for col in range(water_df.shape[1]) : \n",
    "    moyenne = np.nanmean(water_df[:, col])\n",
    "    mediane = np.nanmedian(water_df[:, col])\n",
    "    ec = np.nanstd(water_df[:, col])\n",
    "    min_col = np.nanmin(water_df[:, col])\n",
    "    max_col = np.nanmax(water_df[:, col])\n",
    "    print(f\"Colonne {colnames[col]}: Moyenne = {moyenne}, Médiane = {mediane}, Écart-type = {ec}, Valeur minimum = {min_col}, Valeur maximal = {max_col}\")\n",
    "    "
   ]
  },
  {
   "attachments": {
    "image.png": {
     "image/png": "[encoded data removed]"
    }
   },
   "cell_type": "markdown",
   "metadata": {},
   "source": [
    "Pour gerer les valeurs manquantes je vais utiliser le coefficient de variation : \n",
    "![image.png](attachment:image.png)\n",
    "Etant sur des données biologiques il y a un plus grands risque de variabilité ainsi j'infererais la moyenne pour les observations manquantes ayant un CV inferieur a 0.3 \n",
    "Pour les variables ayant un CV superieur je supprimerais les observations.  \n"
   ]
  },
  {
   "cell_type": "markdown",
   "metadata": {},
   "source": [
    "Identification des variables catégorielles "
   ]
  },
  {
   "cell_type": "code",
   "execution_count": 186,
   "metadata": {},
   "outputs": [],
   "source": [
    "# Fonction pour identifier les valeurs categorielles \n",
    "def is_categorical(liste):\n",
    "    '''\n",
    "    docstring a faire \n",
    "    '''\n",
    "    categorical = False\n",
    "    types_uniques = set(type(element) for element in liste)\n",
    "    categorical = (str in types_uniques or bool in types_uniques) or ((int in types_uniques or float in types_uniques) and len(set(liste)) <= 10)\n",
    "    if categorical : \n",
    "        return set(element for element in liste)\n",
    "    else : \n",
    "        return categorical\n",
    "\n",
    "# Fonction pour identifier les valeurs continues \n",
    "def is_continuous(liste):\n",
    "    if is_categorical(liste) == False : \n",
    "        return set(type(element) for element in liste)\n",
    "    else :\n",
    "        print(\"Cette variable n'est pas continue \")\n",
    "        return False\n",
    "\n",
    "# Fonction pour identifier les valeurs categorielles \n",
    "def categorical_or_continuous(liste):\n",
    "    '''\n",
    "    docstring a faire \n",
    "    '''\n",
    "    categorical = False\n",
    "    types_uniques = set(type(element) for element in liste)\n",
    "    categorical = (str in types_uniques or bool in types_uniques) or ((int in types_uniques or float in types_uniques) and len(set(liste)) <= 10)\n",
    "    if categorical : \n",
    "        return set(element for element in liste)\n",
    "    else : \n",
    "        return set(type(element) for element in liste)"
   ]
  },
  {
   "cell_type": "markdown",
   "metadata": {},
   "source": [
    "Verifions les variables de water_df"
   ]
  },
  {
   "cell_type": "code",
   "execution_count": 187,
   "metadata": {},
   "outputs": [
    {
     "name": "stdout",
     "output_type": "stream",
     "text": [
      "Colonne ph: \n",
      "{<class 'float'>}\n",
      "Colonne Hardness: \n",
      "{<class 'float'>}\n",
      "Colonne Solids: \n",
      "{<class 'float'>}\n",
      "Colonne Chloramines: \n",
      "{<class 'float'>}\n",
      "Colonne Sulfate: \n",
      "{<class 'float'>}\n",
      "Colonne Conductivity: \n",
      "{<class 'float'>}\n",
      "Colonne Organic_carbon: \n",
      "{<class 'float'>}\n",
      "Colonne Trihalomethanes: \n",
      "{<class 'float'>}\n",
      "Colonne Turbidity: \n",
      "{<class 'float'>}\n",
      "Colonne Potability: \n",
      "{0.0, 1.0}\n"
     ]
    }
   ],
   "source": [
    "for col in range(water_df.shape[1]) : \n",
    "    print(f\"Colonne {colnames[col]}: \")\n",
    "    print(categorical_or_continuous(water_df[:, col].tolist()))\n",
    "          "
   ]
  },
  {
   "cell_type": "markdown",
   "metadata": {},
   "source": [
    "## Outillage"
   ]
  },
  {
   "cell_type": "markdown",
   "metadata": {},
   "source": [
    "Les types ont l'air bon\n",
    "Je vais creer la fonction de nettoyage de mon jeu de données "
   ]
  },
  {
   "cell_type": "code",
   "execution_count": 188,
   "metadata": {},
   "outputs": [
    {
     "name": "stdout",
     "output_type": "stream",
     "text": [
      "Avant nettoyage : \n",
      "Info tableau : (3276, 10)\n",
      "Après nettoyage : \n",
      "Info tableau : (2649, 10)\n"
     ]
    }
   ],
   "source": [
    "def clean_data(numpy_table):\n",
    "    '''\n",
    "    docstring\n",
    "    '''\n",
    "    table_copy = np.copy(numpy_table)\n",
    "    print(\"Avant nettoyage : \")\n",
    "    print(f\"Info tableau : {table_copy.shape}\")\n",
    "    for col in range(table_copy.shape[1]) : \n",
    "        if is_categorical != False : \n",
    "            moyenne = np.nanmean(table_copy[:, col])\n",
    "            ec = np.nanstd(table_copy[:, col])\n",
    "            CV = ec / moyenne\n",
    "            if CV < 0.2 : \n",
    "                table_copy[:, col] = np.nan_to_num(table_copy[:, col], nan=moyenne)\n",
    "    \n",
    "    table_copy = table_copy[~np.isnan(table_copy).any(axis=1)]\n",
    "    print(\"Après nettoyage : \")\n",
    "    print(f\"Info tableau : {table_copy.shape}\")\n",
    "    np.savetxt('data_CV20.csv', table_copy, delimiter=\",\")\n",
    "\n",
    "    return table_copy\n",
    "\n",
    "# Utilisation\n",
    "cleaned_data = clean_data(water_df)\n"
   ]
  },
  {
   "cell_type": "markdown",
   "metadata": {},
   "source": [
    "Si une variable numérique contient en réalité un petit nombre de valeurs différentes, il suffit de convertir la classe de l’objet de numeric vers factor. Si, par contre, le nombre de valeurs différentes est important (dizaines ou plus) alors il va falloir créer des regroupements. C’est le découpage en classes abordé plus loin.\n",
    "\n",
    "Il existe des normes pour les parametres de qualité de l'eau on peut les utiliser pour definir nos catégories : \n",
    "- **pH**\n",
    "    - Entre 0 et 6,5 : eau acide\n",
    "    - Entre 6,5 et 8,5 : eau potable\n",
    "    - Entre 8,5 et 14 : eau basique\n",
    "\n",
    "- **Dureté (TH)**\n",
    "    - 0 - 5°f : eau très douce\n",
    "    - 5 - 10°f : eau douce\n",
    "    - 10 - 20°f : eau moyennement dure\n",
    "    - 20 - 30°f : eau dure\n",
    "    - 30°f : eau très dure\n",
    "\n",
    "- **Solides dissous totaux**\n",
    "    - < 300 mg/L : eau de faible minéralisation\n",
    "    - 300 - 600 mg/L : eau de minéralisation moyenne\n",
    "    - 600 mg/L : eau fortement minéralisée\n",
    "\n",
    "- **Chloramines**\n",
    "    - < 0,5 mg/L : niveau acceptable\n",
    "    - 0,5 - 1 mg/L : niveau modéré\n",
    "    - 1 mg/L : niveau élevé\n",
    "\n",
    "- **Sulfates**\n",
    "    - < 250 mg/L : concentration acceptable\n",
    "    - 250 mg/L : concentration élevée\n",
    "\n",
    "- **Conductivité**\n",
    "    - < 200 µS/cm : faible minéralisation\n",
    "    - 200 - 1000 µS/cm : minéralisation moyenne\n",
    "    - 1000 µS/cm : forte minéralisation\n",
    "\n",
    "- **Carbone organique**\n",
    "    - < 2 mg/L : faible teneur\n",
    "    - 2 - 4 mg/L : teneur moyenne\n",
    "    - 4 mg/L : teneur élevée\n",
    "\n",
    "- **Trihalométhanes**\n",
    "    - < 80 µg/L : concentration acceptable\n",
    "    - 80 µg/L : concentration élevée\n",
    "\n",
    "- **Turbidité**\n",
    "    - < 1 UNT : eau claire\n",
    "    - 1 - 5 UNT : eau légèrement trouble\n",
    "    - 5 UNT : eau trouble visible à l'œil nu"
   ]
  },
  {
   "cell_type": "code",
   "execution_count": 190,
   "metadata": {},
   "outputs": [
    {
     "data": {
      "text/plain": [
       "array([['Acide', 129.42292051494425, 18630.057857970347, ...,\n",
       "        56.32907628451764, 4.500656274942408, 0.0],\n",
       "       ['Neutre', 224.23625939355776, 19909.541732292393, ...,\n",
       "        66.42009251176368, 3.0559337496641685, 0.0],\n",
       "       ['Neutre', 214.37339408562252, 22018.417440775294, ...,\n",
       "        100.34167436508008, 4.628770536837084, 0.0],\n",
       "       ...,\n",
       "       ['Basique', 175.76264629629543, 33155.578218312294, ...,\n",
       "        69.84540029205144, 3.298875498646556, 1.0],\n",
       "       ['Acide', 230.60375750846123, 11983.869376336363, ...,\n",
       "        77.48821310275477, 4.708658467526655, 1.0],\n",
       "       ['Neutre', 195.10229858610904, 17404.17706105066, ...,\n",
       "        78.69844632549504, 2.309149056634923, 1.0]],\n",
       "      shape=(2649, 10), dtype=object)"
      ]
     },
     "execution_count": 190,
     "metadata": {},
     "output_type": "execute_result"
    }
   ],
   "source": [
    "def continu_to_cate(numpy_table, col):\n",
    "    table_copy = np.copy(numpy_table).astype(object)\n",
    "    if col == 0:  # pH\n",
    "        conditions = [\n",
    "            (table_copy[:, col] >= 0) & (table_copy[:, col] < 6.5),\n",
    "            (table_copy[:, col] >= 6.5) & (table_copy[:, col] < 8.5),\n",
    "            (table_copy[:, col] >= 8.5) & (table_copy[:, col] <= 14)\n",
    "        ]\n",
    "        choices = [\"Acide\", \"Neutre\", \"Basique\"]\n",
    "        table_copy[:, col] = np.select(conditions, choices, default=\"pH out of range\")\n",
    "    elif col == 1:  # Hardness\n",
    "        conditions = [\n",
    "            (table_copy[:, col] >= 0) & (table_copy[:, col] < 5),\n",
    "            (table_copy[:, col] >= 5) & (table_copy[:, col] < 10),\n",
    "            (table_copy[:, col] >= 10) & (table_copy[:, col] < 20),\n",
    "            (table_copy[:, col] >= 20) & (table_copy[:, col] < 30),\n",
    "            (table_copy[:, col] >= 30)\n",
    "        ]\n",
    "        choices = [\"Tres douce\", \"Douce\", \"Moyennement dure\", \"Dure\", \"Tres dure\"]\n",
    "        table_copy[:, col] = np.select(conditions, choices, default=\"Hardness out of range\")\n",
    "    elif col == 2:  # Solids\n",
    "        conditions = [\n",
    "            (table_copy[:, col] < 300),\n",
    "            (table_copy[:, col] >= 300) & (table_copy[:, col] < 600),\n",
    "            (table_copy[:, col] >= 600)\n",
    "        ]\n",
    "        choices = [\"Faible mineralisation\", \"Mineralisation moyenne\", \"Forte mineralisation\"]\n",
    "        table_copy[:, col] = np.select(conditions, choices, default=\"Solids out of range\")\n",
    "    elif col == 3:  # Chloramines\n",
    "        conditions = [\n",
    "            (table_copy[:, col] < 0.5),\n",
    "            (table_copy[:, col] >= 0.5) & (table_copy[:, col] < 1),\n",
    "            (table_copy[:, col] >= 1)\n",
    "        ]\n",
    "        choices = [\"Acceptable\", \"Moderee\", \"Elevee\"]\n",
    "        table_copy[:, col] = np.select(conditions, choices, default=\"Chloramines out of range\")\n",
    "    elif col == 4:  # Sulfate\n",
    "        conditions = [\n",
    "            (table_copy[:, col] < 250),\n",
    "            (table_copy[:, col] >= 250)\n",
    "        ]\n",
    "        choices = [\"Acceptable\", \"Elevee\"]\n",
    "        table_copy[:, col] = np.select(conditions, choices, default=\"Sulfate out of range\")\n",
    "    elif col == 5:  # Conductivity\n",
    "        conditions = [\n",
    "            (table_copy[:, col] < 200),\n",
    "            (table_copy[:, col] >= 200) & (table_copy[:, col] < 1000),\n",
    "            (table_copy[:, col] >= 1000)\n",
    "        ]\n",
    "        choices = [\"Faible\", \"Moyen\", \"Fort\"]\n",
    "        table_copy[:, col] = np.select(conditions, choices, default=\"Conductivity out of range\")\n",
    "    elif col == 6:  # Organic_carbon\n",
    "        conditions = [\n",
    "            (table_copy[:, col] < 2),\n",
    "            (table_copy[:, col] >= 2) & (table_copy[:, col] < 4),\n",
    "            (table_copy[:, col] >= 4)\n",
    "        ]\n",
    "        choices = [\"Faible\", \"Moyen\", \"Fort\"]\n",
    "        table_copy[:, col] = np.select(conditions, choices, default=\"Organic_carbon out of range\")\n",
    "    elif col == 7:  # Trihalomethanes\n",
    "        conditions = [\n",
    "            (table_copy[:, col] < 80),\n",
    "            (table_copy[:, col] >= 80)\n",
    "        ]\n",
    "        choices = [\"Acceptable\", \"Elevee\"]\n",
    "        table_copy[:, col] = np.select(conditions, choices, default=\"Trihalomethanes out of range\")\n",
    "    elif col == 8:  # Turbidity\n",
    "        conditions = [\n",
    "            (table_copy[:, col] < 1),\n",
    "            (table_copy[:, col] >= 1) & (table_copy[:, col] < 5),\n",
    "            (table_copy[:, col] >= 5)\n",
    "        ]\n",
    "        choices = [\"Eau clair\", \"Eau légerement trouble\", \"Eau trouble\"]\n",
    "        table_copy[:, col] = np.select(conditions, choices, default=\"Turbidity out of range\")\n",
    "    else:\n",
    "        print(\"Cette colonne n'existe pas\")\n",
    "    return table_copy\n",
    "\n",
    "test = continu_to_cate(cleaned_data, 0)\n",
    "test "
   ]
  },
  {
   "cell_type": "markdown",
   "metadata": {},
   "source": [
    "Pour transformer des variables catégorielle en variable continue on peut simplement convertir les chaines de caractère en nombre \n",
    "Dans mon jeu de donnée c'est deja fait "
   ]
  }
 ],
 "metadata": {
  "kernelspec": {
   "display_name": "bioinfo",
   "language": "python",
   "name": "python3"
  },
  "language_info": {
   "codemirror_mode": {
    "name": "ipython",
    "version": 3
   },
   "file_extension": ".py",
   "mimetype": "text/x-python",
   "name": "python",
   "nbconvert_exporter": "python",
   "pygments_lexer": "ipython3",
   "version": "3.10.16"
  }
 },
 "nbformat": 4,
 "nbformat_minor": 2
}
